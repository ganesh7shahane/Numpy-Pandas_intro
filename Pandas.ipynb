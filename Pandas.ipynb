{
 "cells": [
  {
   "cell_type": "markdown",
   "metadata": {},
   "source": [
    "### This notebook is about how to use pandas \n",
    "\n",
    "For this, we will use the boston housing dataset\n",
    "\n",
    "The we will also see how to read and import data from a filw"
   ]
  },
  {
   "cell_type": "code",
   "execution_count": 33,
   "metadata": {},
   "outputs": [
    {
     "name": "stdout",
     "output_type": "stream",
     "text": [
      "        RM  PRICE\n",
      "0    6.575   24.0\n",
      "1    6.421   21.6\n",
      "2    7.185   34.7\n",
      "3    6.998   33.4\n",
      "4    7.147   36.2\n",
      "5    6.430   28.7\n",
      "6    6.012   22.9\n",
      "7    6.172   27.1\n",
      "8    5.631   16.5\n",
      "9    6.004   18.9\n",
      "10   6.377   15.0\n",
      "11   6.009   18.9\n",
      "12   5.889   21.7\n",
      "13   5.949   20.4\n",
      "14   6.096   18.2\n",
      "15   5.834   19.9\n",
      "16   5.935   23.1\n",
      "17   5.990   17.5\n",
      "18   5.456   20.2\n",
      "19   5.727   18.2\n",
      "20   5.570   13.6\n",
      "21   5.965   19.6\n",
      "22   6.142   15.2\n",
      "23   5.813   14.5\n",
      "24   5.924   15.6\n",
      "25   5.599   13.9\n",
      "26   5.813   16.6\n",
      "27   6.047   14.8\n",
      "28   6.495   18.4\n",
      "29   6.674   21.0\n",
      "..     ...    ...\n",
      "476  6.484   16.7\n",
      "477  5.304   12.0\n",
      "478  6.185   14.6\n",
      "479  6.229   21.4\n",
      "480  6.242   23.0\n",
      "481  6.750   23.7\n",
      "482  7.061   25.0\n",
      "483  5.762   21.8\n",
      "484  5.871   20.6\n",
      "485  6.312   21.2\n",
      "486  6.114   19.1\n",
      "487  5.905   20.6\n",
      "488  5.454   15.2\n",
      "489  5.414    7.0\n",
      "490  5.093    8.1\n",
      "491  5.983   13.6\n",
      "492  5.983   20.1\n",
      "493  5.707   21.8\n",
      "494  5.926   24.5\n",
      "495  5.670   23.1\n",
      "496  5.390   19.7\n",
      "497  5.794   18.3\n",
      "498  6.019   21.2\n",
      "499  5.569   17.5\n",
      "500  6.027   16.8\n",
      "501  6.593   22.4\n",
      "502  6.120   20.6\n",
      "503  6.976   23.9\n",
      "504  6.794   22.0\n",
      "505  6.030   11.9\n",
      "\n",
      "[506 rows x 2 columns]\n"
     ]
    }
   ],
   "source": [
    "import numpy as np\n",
    "import pandas as pd\n",
    "import scipy.stats as stats\n",
    "import matplotlib.pyplot as plt\n",
    "import sklearn\n",
    "from sklearn.datasets import load_boston\n",
    "\n",
    "boston = load_boston()\n",
    "#print(boston) #prints the entire dataset in its raw format.\n",
    "#print(boston.keys()) #boston is actually a dictionary and this prints the keys in it: ict_keys(['data', 'target', 'feature_names', 'DESCR'])\n",
    "#print(boston.data) #prints all data (in the form of rows and columns) in the dataset\n",
    "#print(boston.feature_names)\n",
    "\n",
    "#NOW we will convert the boston.data in a pandas dataframe\n",
    "bos = pd.DataFrame(boston.data) #What we want is the 'data' of boston and NOT target or feature_names\n",
    "#print(bos)\n",
    "#print(bos.head())\n",
    "#print(type(bos)) #prints type of the given object\n",
    "\n",
    "bos.columns = boston.feature_names # gives names to columns\n",
    "#print(bos.head()) #prints the dataframe with column names on top\n",
    "\n",
    "#print(boston.target) #this is the 14th column/attribute and consists of the actual house prices!\n",
    "\n",
    "#Now, we ADD the above PRICING data as a column called PRICE in the dataset!\n",
    "bos['PRICE'] = boston.target\n",
    "#print(bos.head()) #this prints the dataset with the new column 'PRICE'. This can then be accessed by bos.PRICE\n",
    "\n",
    "#SELECTING COLUMNS in different ways in pandas dataframes:\n",
    "#print(bos.RM) #selects and prints only pure data without header\n",
    "#print(bos['RM']) #same as above\n",
    "#print(bos[['RM']]) #selects and prints data WITH header\n",
    "print(bos[['RM','PRICE']]) #selects and prints MULTIPLE  COLUMNS with headers\n",
    "#bos['RM'][bos['PRICE']] #no idea what this does exactly\n",
    "#two_col = bos[['RM','PRICE']] # create a separate \n",
    "#print(two_col)\n",
    "\n",
    "#SELECTING COULMNS with indices\n",
    "#print(bos.iloc[:,4:13]) #selects and prints the columns four to thirteen\n",
    "#print(bos.iloc[:,1][:5]) #This says \"give me top 5 values of coulmn with index 1 (the second column)\"\n",
    "#print(bos.iloc[:,-1]) # last column\n",
    "#print(bos.iloc[:,-3]) # 3rd last column\n",
    "#print(bos.iloc[:,3]) #column with index 3 i.e. 4th column\n",
    "#print(bos.iloc[:,1][:,4]) # DOESN'T WORK!! Wanted to seletc specific columns\n",
    "\n",
    "#SELECTING ROWS (without .iloc!)\n",
    "#print(bos[:-10]) #selects all columns and all rows except the last 10\n",
    "#print(bos[-10:]) #selects all columns and only for last 10 rows\n",
    "#print(bos[['CRIM','INDUS']].values) #values of CRIM and INDUS\n",
    "\n",
    "#print(bos[:10]) #selects all columns and first 10 rows\n",
    "#print(bos[10:]) #selects all columns and except for the first 10 rows\n",
    "\n",
    "#SELECTING specific values\n",
    "#print(bos.iloc[:10]) #prints rows from index 0-9\n",
    "#print(bos.iloc[0][1]) #prints value of row 0 and column 1"
   ]
  },
  {
   "cell_type": "code",
   "execution_count": 23,
   "metadata": {},
   "outputs": [
    {
     "name": "stderr",
     "output_type": "stream",
     "text": [
      "/anaconda3/lib/python3.7/site-packages/scipy/stats/stats.py:1713: FutureWarning: Using a non-tuple sequence for multidimensional indexing is deprecated; use `arr[tuple(seq)]` instead of `arr[seq]`. In the future this will be interpreted as an array index, `arr[np.array(seq)]`, which will result either in an error or a different result.\n",
      "  return np.add.reduce(sorted[indexer] * weights, axis=axis) / sumval\n"
     ]
    },
    {
     "data": {
      "text/plain": [
       "<matplotlib.axes._subplots.AxesSubplot at 0x1a1b5f3080>"
      ]
     },
     "execution_count": 23,
     "metadata": {},
     "output_type": "execute_result"
    },
    {
     "data": {
      "image/png": "[encoded data removed]",
      "text/plain": [
       "<Figure size 432x288 with 1 Axes>"
      ]
     },
     "metadata": {
      "needs_background": "light"
     },
     "output_type": "display_data"
    }
   ],
   "source": [
    "import pandas as pd\n",
    "import numpy as np\n",
    "import seaborn as sb\n",
    "import matplotlib.pyplot as plt\n",
    "\n",
    "df = pd.read_csv('lateralpressure.xvg', header=None, delimiter='\\s+')\n",
    "#print(df)\n",
    "#print(df.iloc[:,1]) #prints column #2, because the column index starts from 0!\n",
    "#print(df.iloc[:,0]) #prints column #1\n",
    "\n",
    "#covert pandas to numpy array!\n",
    "distance = np.array(df.iloc[:,0])\n",
    "pressure = np.array(df.iloc[:,1])\n",
    "#print(pressure)\n",
    "#print(distance)\n",
    "\n",
    "sb.regplot(distance, pressure)"
   ]
  },
  {
   "cell_type": "code",
   "execution_count": 2,
   "metadata": {},
   "outputs": [
    {
     "name": "stdout",
     "output_type": "stream",
     "text": [
      "   RO3  RO5\n",
      "0    Y    0\n",
      "1    N    0\n",
      "2    N    0\n",
      "3    N    0\n",
      "4    N    1\n",
      "5    N    0\n",
      "6    N    0\n",
      "7    N    0\n",
      "8    N    0\n",
      "9    N    0\n",
      "10   N    0\n",
      "11   N    0\n",
      "12   N    0\n",
      "13   N    0\n",
      "14   N    0\n",
      "15   N    0\n",
      "16   N    0\n",
      "17   N    0\n",
      "18   N    0\n",
      "19   N    0\n",
      "20   N    0\n",
      "<class 'pandas.core.frame.DataFrame'>\n"
     ]
    }
   ],
   "source": [
    "import pandas as pd\n",
    "import numpy as np\n",
    "import seaborn as sb\n",
    "import matplotlib.pyplot as plt\n",
    "\n",
    "da = pd.read_csv('serotonin_chembl.txt', sep='\\t')\n",
    "#print(da)\n",
    "#print(da.head())\n",
    "#print(da.describe)\n",
    "#print(da.iloc[:,4]) #prints column #2, because the column index starts from 0!\n",
    "#print(df.iloc[:,0]) #prints column #1\n",
    "new_df=da[['RO3','RO5']] #prints different columns with header\n",
    "print(new_df)\n",
    "print(type(new_df)) #prints type "
   ]
  },
  {
   "cell_type": "markdown",
   "metadata": {},
   "source": [
    "### Create a dataframe"
   ]
  },
  {
   "cell_type": "code",
   "execution_count": 28,
   "metadata": {},
   "outputs": [
    {
     "name": "stdout",
     "output_type": "stream",
     "text": [
      "         date  column1  column2\n",
      "0  2018-01-01      555       50\n",
      "1  2018-01-02      525       48\n",
      "2  2018-01-03      532       49\n",
      "3  2018-01-04      585       51\n"
     ]
    }
   ],
   "source": [
    "import pandas as pd\n",
    "import matplotlib.pyplot as plt\n",
    "\n",
    "df = pd.DataFrame({\"date\": [\"2018-01-01\", \"2018-01-02\", \"2018-01-03\", \"2018-01-04\"],\n",
    "                   \"column1\": [555,525,532,585], \n",
    "                   \"column2\": [50,48,49,51]})\n",
    "\n",
    "print(df)"
   ]
  },
  {
   "cell_type": "markdown",
   "metadata": {},
   "source": [
    "## np.where()\n",
    "\n",
    "### Intuitively, np.where is like asking \"tell me where in this array, entries satisfy a given condition\"\n",
    "\n",
    "### It is like \"if else\" in Pandas"
   ]
  },
  {
   "cell_type": "code",
   "execution_count": 3,
   "metadata": {},
   "outputs": [
    {
     "name": "stdout",
     "output_type": "stream",
     "text": [
      "('a:', array([5, 6, 7, 8, 9]))\n",
      "(array([0, 1, 2]),)\n",
      "[5 6 7]\n",
      "[1 1 1 0 0]\n"
     ]
    }
   ],
   "source": [
    "a = np.arange(5,10)\n",
    "print(\"a:\",a)\n",
    "\n",
    "print(np.where(a<8)) # give me indices where of the values where a<8\n",
    "\n",
    "print(a[np.where(a<8)]) # give me values that are <8\n",
    "\n",
    "print(np.where(a<8,1,0)) # where a<8, replace those values with 1, else with 0"
   ]
  },
  {
   "cell_type": "markdown",
   "metadata": {},
   "source": [
    "## np.groupby() example:"
   ]
  },
  {
   "cell_type": "code",
   "execution_count": 34,
   "metadata": {},
   "outputs": [
    {
     "name": "stdout",
     "output_type": "stream",
     "text": [
      "    Points  Rank    Team  Year\n",
      "0      876     1  Riders  2014\n",
      "1      789     2  Riders  2015\n",
      "2      863     2  Devils  2014\n",
      "3      673     3  Devils  2015\n",
      "4      741     3   Kings  2014\n",
      "5      812     4   kings  2015\n",
      "6      756     1   Kings  2016\n",
      "7      788     1   Kings  2017\n",
      "8      694     2  Riders  2016\n",
      "9      701     4  Royals  2014\n",
      "10     804     1  Royals  2015\n",
      "11     690     2  Riders  2017\n"
     ]
    }
   ],
   "source": [
    "#import the pandas library\n",
    "import pandas as pd\n",
    "import matplotlib.pyplot as plt\n",
    "\n",
    "ipl_data = {'Team': ['Riders', 'Riders', 'Devils', 'Devils', 'Kings',\n",
    "   'kings', 'Kings', 'Kings', 'Riders', 'Royals', 'Royals', 'Riders'],\n",
    "   'Rank': [1, 2, 2, 3, 3,4 ,1 ,1,2 , 4,1,2],\n",
    "   'Year': [2014,2015,2014,2015,2014,2015,2016,2017,2016,2014,2015,2017],\n",
    "   'Points':[876,789,863,673,741,812,756,788,694,701,804,690]}\n",
    "df = pd.DataFrame(ipl_data)\n",
    "\n",
    "print df"
   ]
  },
  {
   "cell_type": "code",
   "execution_count": 40,
   "metadata": {},
   "outputs": [
    {
     "name": "stdout",
     "output_type": "stream",
     "text": [
      "   Points  Rank    Team  Year\n",
      "0     876     1  Riders  2014\n",
      "2     863     2  Devils  2014\n",
      "4     741     3   Kings  2014\n",
      "9     701     4  Royals  2014\n",
      "('Rank sum:', 3181)\n",
      "0    876\n",
      "2    863\n",
      "4    741\n",
      "9    701\n",
      "Name: Points, dtype: int64\n",
      "<pandas.core.groupby.groupby.SeriesGroupBy object at 0x1a1290a4d0>\n"
     ]
    },
    {
     "data": {
      "text/plain": [
       "<matplotlib.axes._subplots.AxesSubplot at 0x1a20b3a810>"
      ]
     },
     "execution_count": 40,
     "metadata": {},
     "output_type": "execute_result"
    },
    {
     "data": {
      "image/png": "[encoded data removed]",
      "text/plain": [
       "<Figure size 432x288 with 1 Axes>"
      ]
     },
     "metadata": {
      "needs_background": "light"
     },
     "output_type": "display_data"
    }
   ],
   "source": [
    "year = df.groupby('Year')\n",
    "\n",
    "\n",
    "#Get details of year 2014\n",
    "print(year.get_group(2014)) \n",
    "print(\"Rank sum:\",year.get_group(2014)['Points'].sum()) #gets sum of all ranks of 2014\n",
    "\n",
    "fourteen = year.get_group(2014)\n",
    "print(fourteen['Points']) #gets all points in year 2014\n",
    "#fourteen['Points'].hist(bins=5)\n",
    "\n",
    "print(year['Points'])\n",
    "#year['Points'].hist()\n",
    "\n",
    "df.plot.bar(y='Points', x='Year')"
   ]
  },
  {
   "cell_type": "code",
   "execution_count": 32,
   "metadata": {},
   "outputs": [
    {
     "name": "stdout",
     "output_type": "stream",
     "text": [
      "  lab  val\n",
      "0   A   10\n",
      "1   B   30\n",
      "2   C   20\n"
     ]
    },
    {
     "data": {
      "image/png": "[encoded data removed]",
      "text/plain": [
       "<Figure size 432x288 with 1 Axes>"
      ]
     },
     "metadata": {
      "needs_background": "light"
     },
     "output_type": "display_data"
    }
   ],
   "source": [
    "df = pd.DataFrame({'lab':['A', 'B', 'C'], 'val':[10, 30, 20]})\n",
    "print(df)\n",
    "ax = df.plot.bar(x='lab', y='val', rot=0)"
   ]
  },
  {
   "cell_type": "code",
   "execution_count": null,
   "metadata": {},
   "outputs": [],
   "source": []
  }
 ],
 "metadata": {
  "kernelspec": {
   "display_name": "Python 2",
   "language": "python",
   "name": "python2"
  },
  "language_info": {
   "codemirror_mode": {
    "name": "ipython",
    "version": 2
   },
   "file_extension": ".py",
   "mimetype": "text/x-python",
   "name": "python",
   "nbconvert_exporter": "python",
   "pygments_lexer": "ipython2",
   "version": "2.7.15"
  }
 },
 "nbformat": 4,
 "nbformat_minor": 2
}
